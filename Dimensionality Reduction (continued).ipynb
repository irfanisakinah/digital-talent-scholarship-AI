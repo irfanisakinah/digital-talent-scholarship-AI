{
 "cells": [
  {
   "cell_type": "code",
   "execution_count": 2,
   "metadata": {},
   "outputs": [],
   "source": [
    "import pandas as pd\n",
    "df = pd.read_csv(\"winequality-white.csv\",sep=';')"
   ]
  },
  {
   "cell_type": "code",
   "execution_count": 3,
   "metadata": {},
   "outputs": [],
   "source": [
    "# import the necessary packages\n",
    "from sklearn.neighbors import KNeighborsClassifier\n",
    "from sklearn.naive_bayes import GaussianNB\n",
    "from sklearn.linear_model import LogisticRegression\n",
    "from sklearn.svm import SVC\n",
    "from sklearn.tree import DecisionTreeClassifier\n",
    "from sklearn.ensemble import RandomForestClassifier\n",
    "from sklearn.model_selection import train_test_split\n",
    "from sklearn.metrics import classification_report"
   ]
  },
  {
   "cell_type": "code",
   "execution_count": 14,
   "metadata": {},
   "outputs": [],
   "source": [
    "# define the dictionary of models our script can use\n",
    "# the key to the dictionary is the name of the model\n",
    "# (supplied via command line argument) and the value is the model itself\n",
    "models = {\n",
    "\"knn\": KNeighborsClassifier(n_neighbors=1),\n",
    "\"naive_bayes\": GaussianNB(),\n",
    "\"logit\": LogisticRegression(solver=\"lbfgs\", multi_class=\"auto\"),\n",
    "\"svm\": SVC(kernel=\"rbf\", gamma=\"auto\"),\n",
    "\"decision_tree\": DecisionTreeClassifier(),\n",
    "\"random_forest\": RandomForestClassifier(n_estimators=100),\n",
    "}"
   ]
  },
  {
   "cell_type": "code",
   "execution_count": 39,
   "metadata": {},
   "outputs": [
    {
     "name": "stdout",
     "output_type": "stream",
     "text": [
      "[INFO] loading data...\n",
      "[INFO] evaluating...\n",
      "              precision    recall  f1-score   support\n",
      "\n",
      "           3       0.00      0.00      0.00         7\n",
      "           4       0.54      0.22      0.31        32\n",
      "           5       0.67      0.67      0.67       353\n",
      "           6       0.64      0.78      0.70       566\n",
      "           7       0.69      0.51      0.59       213\n",
      "           8       0.84      0.31      0.45        52\n",
      "           9       0.00      0.00      0.00         2\n",
      "\n",
      "    accuracy                           0.66      1225\n",
      "   macro avg       0.48      0.35      0.39      1225\n",
      "weighted avg       0.66      0.66      0.65      1225\n",
      "\n"
     ]
    },
    {
     "name": "stderr",
     "output_type": "stream",
     "text": [
      "C:\\Users\\user\\Anaconda3\\lib\\site-packages\\sklearn\\metrics\\classification.py:1437: UndefinedMetricWarning: Precision and F-score are ill-defined and being set to 0.0 in labels with no predicted samples.\n",
      "  'precision', 'predicted', average, warn_for)\n"
     ]
    }
   ],
   "source": [
    "# load the white wine dataset and perform a training and testing split\n",
    "# using 75% of the data for training and 25% for evaluation\n",
    "print(\"[INFO] loading data...\")\n",
    "(trainX, testX, trainY, testY) = train_test_split(df.iloc[:,0:11],\n",
    "df['quality'], random_state=3, test_size=0.25)\n",
    "# train the modelprint(\"[INFO] using '{}' model\".format(model_name))\n",
    "model = models['random_forest']\n",
    "model.fit(trainX, trainY)\n",
    "# make predictions on our data and show a classification report\n",
    "print(\"[INFO] evaluating...\")\n",
    "predictions = model.predict(testX)\n",
    "print(classification_report(testY, predictions))"
   ]
  },
  {
   "cell_type": "code",
   "execution_count": 21,
   "metadata": {},
   "outputs": [
    {
     "name": "stdout",
     "output_type": "stream",
     "text": [
      "Explained variation per principal component:[0.29293217 0.14320363]\n"
     ]
    }
   ],
   "source": [
    "from sklearn.preprocessing import StandardScaler\n",
    "from sklearn.decomposition import PCA\n",
    "x = df.iloc[:,0:11]\n",
    "# normalizing: mean=0; std=1\n",
    "x = StandardScaler().fit_transform(x)\n",
    "pca = PCA(n_components=2)\n",
    "pC_df = pca.fit_transform(x)\n",
    "principal_df = pd.DataFrame(data = pC_df,\n",
    "columns = ['PC1', 'PC2'])\n",
    "print('Explained variation per principal component:{}'.format(pca.explained_variance_ratio_))"
   ]
  },
  {
   "cell_type": "code",
   "execution_count": 38,
   "metadata": {},
   "outputs": [
    {
     "name": "stdout",
     "output_type": "stream",
     "text": [
      "[INFO] evaluating...\n",
      "              precision    recall  f1-score   support\n",
      "\n",
      "           3       0.00      0.00      0.00         7\n",
      "           4       0.20      0.09      0.13        32\n",
      "           5       0.55      0.56      0.56       353\n",
      "           6       0.60      0.67      0.63       566\n",
      "           7       0.50      0.46      0.48       213\n",
      "           8       0.72      0.35      0.47        52\n",
      "           9       0.00      0.00      0.00         2\n",
      "\n",
      "    accuracy                           0.57      1225\n",
      "   macro avg       0.37      0.30      0.32      1225\n",
      "weighted avg       0.56      0.57      0.56      1225\n",
      "\n"
     ]
    },
    {
     "name": "stderr",
     "output_type": "stream",
     "text": [
      "C:\\Users\\user\\Anaconda3\\lib\\site-packages\\sklearn\\metrics\\classification.py:1437: UndefinedMetricWarning: Precision and F-score are ill-defined and being set to 0.0 in labels with no predicted samples.\n",
      "  'precision', 'predicted', average, warn_for)\n"
     ]
    }
   ],
   "source": [
    "#memisahkan data training dan data test untuk hasil PCA\n",
    "(trainX, testX, trainY, testY) = train_test_split(principal_df,\n",
    "df['quality'], random_state=3, test_size=0.25)\n",
    "# train the modelprint(\"[INFO] using '{}' model\".format(model_name))\n",
    "model = models['random_forest']\n",
    "model.fit(trainX, trainY)\n",
    "# make predictions on our PCA data and show a classification report\n",
    "print(\"[INFO] evaluating...\")\n",
    "predictions = model.predict(testX)\n",
    "print(classification_report(testY, predictions))"
   ]
  },
  {
   "cell_type": "code",
   "execution_count": 20,
   "metadata": {},
   "outputs": [
    {
     "name": "stdout",
     "output_type": "stream",
     "text": [
      "Explained variation per principal component:[0.83120809 0.11348134]\n"
     ]
    }
   ],
   "source": [
    "from sklearn.discriminant_analysis import LinearDiscriminantAnalysis\n",
    "x = df.iloc[:,0:11]\n",
    "x = StandardScaler().fit_transform(x) # normalizing the features:\n",
    "mean=0; std=1\n",
    "y=df['quality']\n",
    "lda = LinearDiscriminantAnalysis(n_components=2)\n",
    "np_lda=lda.fit(x,y).transform(x)\n",
    "df_lda=pd.DataFrame(np_lda)\n",
    "print('Explained variation per principal component:{}'.format(lda.explained_variance_ratio_))"
   ]
  },
  {
   "cell_type": "code",
   "execution_count": 37,
   "metadata": {},
   "outputs": [
    {
     "name": "stdout",
     "output_type": "stream",
     "text": [
      "[INFO] evaluating...\n",
      "              precision    recall  f1-score   support\n",
      "\n",
      "           3       0.00      0.00      0.00         7\n",
      "           4       0.26      0.16      0.20        32\n",
      "           5       0.62      0.60      0.61       353\n",
      "           6       0.62      0.67      0.65       566\n",
      "           7       0.48      0.48      0.48       213\n",
      "           8       0.67      0.38      0.49        52\n",
      "           9       0.00      0.00      0.00         2\n",
      "\n",
      "    accuracy                           0.59      1225\n",
      "   macro avg       0.38      0.33      0.35      1225\n",
      "weighted avg       0.58      0.59      0.58      1225\n",
      "\n"
     ]
    }
   ],
   "source": [
    "#memisahkan data training dan data test untuk hasil LDA\n",
    "(trainX, testX, trainY, testY) = train_test_split(df_lda,\n",
    "df['quality'], random_state=3, test_size=0.25)\n",
    "\n",
    "# train the modelprint(\"[INFO] using '{}' model\".format(model_name))\n",
    "model = models['random_forest']\n",
    "model.fit(trainX, trainY)\n",
    "\n",
    "# make predictions on our LDA data and show a classification report\n",
    "print(\"[INFO] evaluating...\")\n",
    "predictions = model.predict(testX)\n",
    "print(classification_report(testY, predictions))"
   ]
  }
 ],
 "metadata": {
  "kernelspec": {
   "display_name": "Python 3",
   "language": "python",
   "name": "python3"
  },
  "language_info": {
   "codemirror_mode": {
    "name": "ipython",
    "version": 3
   },
   "file_extension": ".py",
   "mimetype": "text/x-python",
   "name": "python",
   "nbconvert_exporter": "python",
   "pygments_lexer": "ipython3",
   "version": "3.7.3"
  }
 },
 "nbformat": 4,
 "nbformat_minor": 2
}
