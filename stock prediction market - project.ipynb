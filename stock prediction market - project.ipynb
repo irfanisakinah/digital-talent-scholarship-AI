{
 "cells": [
  {
   "cell_type": "code",
   "execution_count": 3,
   "metadata": {},
   "outputs": [],
   "source": [
    "import numpy as np\n",
    "import matplotlib.pyplot as plt\n",
    "import pandas as pd"
   ]
  },
  {
   "cell_type": "code",
   "execution_count": 2,
   "metadata": {},
   "outputs": [],
   "source": [
    "dataset_train = pd.read_csv(\"NSE-TATAGLOBAL.csv\") # dataframe\n",
    "training_set = dataset_train.iloc[:, 1:2].values"
   ]
  },
  {
   "cell_type": "code",
   "execution_count": 3,
   "metadata": {},
   "outputs": [
    {
     "data": {
      "text/html": [
       "<div>\n",
       "<style scoped>\n",
       "    .dataframe tbody tr th:only-of-type {\n",
       "        vertical-align: middle;\n",
       "    }\n",
       "\n",
       "    .dataframe tbody tr th {\n",
       "        vertical-align: top;\n",
       "    }\n",
       "\n",
       "    .dataframe thead th {\n",
       "        text-align: right;\n",
       "    }\n",
       "</style>\n",
       "<table border=\"1\" class=\"dataframe\">\n",
       "  <thead>\n",
       "    <tr style=\"text-align: right;\">\n",
       "      <th></th>\n",
       "      <th>Date</th>\n",
       "      <th>Open</th>\n",
       "      <th>High</th>\n",
       "      <th>Low</th>\n",
       "      <th>Last</th>\n",
       "      <th>Close</th>\n",
       "      <th>Total Trade Quantity</th>\n",
       "      <th>Turnover (Lacs)</th>\n",
       "    </tr>\n",
       "  </thead>\n",
       "  <tbody>\n",
       "    <tr>\n",
       "      <th>0</th>\n",
       "      <td>2018-09-28</td>\n",
       "      <td>234.05</td>\n",
       "      <td>235.95</td>\n",
       "      <td>230.20</td>\n",
       "      <td>233.50</td>\n",
       "      <td>233.75</td>\n",
       "      <td>3069914</td>\n",
       "      <td>7162.35</td>\n",
       "    </tr>\n",
       "    <tr>\n",
       "      <th>1</th>\n",
       "      <td>2018-09-27</td>\n",
       "      <td>234.55</td>\n",
       "      <td>236.80</td>\n",
       "      <td>231.10</td>\n",
       "      <td>233.80</td>\n",
       "      <td>233.25</td>\n",
       "      <td>5082859</td>\n",
       "      <td>11859.95</td>\n",
       "    </tr>\n",
       "    <tr>\n",
       "      <th>2</th>\n",
       "      <td>2018-09-26</td>\n",
       "      <td>240.00</td>\n",
       "      <td>240.00</td>\n",
       "      <td>232.50</td>\n",
       "      <td>235.00</td>\n",
       "      <td>234.25</td>\n",
       "      <td>2240909</td>\n",
       "      <td>5248.60</td>\n",
       "    </tr>\n",
       "    <tr>\n",
       "      <th>3</th>\n",
       "      <td>2018-09-25</td>\n",
       "      <td>233.30</td>\n",
       "      <td>236.75</td>\n",
       "      <td>232.00</td>\n",
       "      <td>236.25</td>\n",
       "      <td>236.10</td>\n",
       "      <td>2349368</td>\n",
       "      <td>5503.90</td>\n",
       "    </tr>\n",
       "    <tr>\n",
       "      <th>4</th>\n",
       "      <td>2018-09-24</td>\n",
       "      <td>233.55</td>\n",
       "      <td>239.20</td>\n",
       "      <td>230.75</td>\n",
       "      <td>234.00</td>\n",
       "      <td>233.30</td>\n",
       "      <td>3423509</td>\n",
       "      <td>7999.55</td>\n",
       "    </tr>\n",
       "  </tbody>\n",
       "</table>\n",
       "</div>"
      ],
      "text/plain": [
       "         Date    Open    High     Low    Last   Close  Total Trade Quantity  \\\n",
       "0  2018-09-28  234.05  235.95  230.20  233.50  233.75               3069914   \n",
       "1  2018-09-27  234.55  236.80  231.10  233.80  233.25               5082859   \n",
       "2  2018-09-26  240.00  240.00  232.50  235.00  234.25               2240909   \n",
       "3  2018-09-25  233.30  236.75  232.00  236.25  236.10               2349368   \n",
       "4  2018-09-24  233.55  239.20  230.75  234.00  233.30               3423509   \n",
       "\n",
       "   Turnover (Lacs)  \n",
       "0          7162.35  \n",
       "1         11859.95  \n",
       "2          5248.60  \n",
       "3          5503.90  \n",
       "4          7999.55  "
      ]
     },
     "execution_count": 3,
     "metadata": {},
     "output_type": "execute_result"
    }
   ],
   "source": [
    "dataset_train.head()"
   ]
  },
  {
   "cell_type": "code",
   "execution_count": 4,
   "metadata": {},
   "outputs": [
    {
     "data": {
      "text/plain": [
       "(2035, 8)"
      ]
     },
     "execution_count": 4,
     "metadata": {},
     "output_type": "execute_result"
    }
   ],
   "source": [
    "dataset_train.shape"
   ]
  },
  {
   "cell_type": "code",
   "execution_count": 5,
   "metadata": {},
   "outputs": [
    {
     "data": {
      "text/html": [
       "<div>\n",
       "<style scoped>\n",
       "    .dataframe tbody tr th:only-of-type {\n",
       "        vertical-align: middle;\n",
       "    }\n",
       "\n",
       "    .dataframe tbody tr th {\n",
       "        vertical-align: top;\n",
       "    }\n",
       "\n",
       "    .dataframe thead th {\n",
       "        text-align: right;\n",
       "    }\n",
       "</style>\n",
       "<table border=\"1\" class=\"dataframe\">\n",
       "  <thead>\n",
       "    <tr style=\"text-align: right;\">\n",
       "      <th></th>\n",
       "      <th>Date</th>\n",
       "      <th>Open</th>\n",
       "      <th>High</th>\n",
       "      <th>Low</th>\n",
       "      <th>Last</th>\n",
       "      <th>Close</th>\n",
       "      <th>Total Trade Quantity</th>\n",
       "      <th>Turnover (Lacs)</th>\n",
       "    </tr>\n",
       "  </thead>\n",
       "  <tbody>\n",
       "    <tr>\n",
       "      <th>2030</th>\n",
       "      <td>2010-07-27</td>\n",
       "      <td>117.6</td>\n",
       "      <td>119.50</td>\n",
       "      <td>112.00</td>\n",
       "      <td>118.80</td>\n",
       "      <td>118.65</td>\n",
       "      <td>586100</td>\n",
       "      <td>694.98</td>\n",
       "    </tr>\n",
       "    <tr>\n",
       "      <th>2031</th>\n",
       "      <td>2010-07-26</td>\n",
       "      <td>120.1</td>\n",
       "      <td>121.00</td>\n",
       "      <td>117.10</td>\n",
       "      <td>117.10</td>\n",
       "      <td>117.60</td>\n",
       "      <td>658440</td>\n",
       "      <td>780.01</td>\n",
       "    </tr>\n",
       "    <tr>\n",
       "      <th>2032</th>\n",
       "      <td>2010-07-23</td>\n",
       "      <td>121.8</td>\n",
       "      <td>121.95</td>\n",
       "      <td>120.25</td>\n",
       "      <td>120.35</td>\n",
       "      <td>120.65</td>\n",
       "      <td>281312</td>\n",
       "      <td>340.31</td>\n",
       "    </tr>\n",
       "    <tr>\n",
       "      <th>2033</th>\n",
       "      <td>2010-07-22</td>\n",
       "      <td>120.3</td>\n",
       "      <td>122.00</td>\n",
       "      <td>120.25</td>\n",
       "      <td>120.75</td>\n",
       "      <td>120.90</td>\n",
       "      <td>293312</td>\n",
       "      <td>355.17</td>\n",
       "    </tr>\n",
       "    <tr>\n",
       "      <th>2034</th>\n",
       "      <td>2010-07-21</td>\n",
       "      <td>122.1</td>\n",
       "      <td>123.00</td>\n",
       "      <td>121.05</td>\n",
       "      <td>121.10</td>\n",
       "      <td>121.55</td>\n",
       "      <td>658666</td>\n",
       "      <td>803.56</td>\n",
       "    </tr>\n",
       "  </tbody>\n",
       "</table>\n",
       "</div>"
      ],
      "text/plain": [
       "            Date   Open    High     Low    Last   Close  Total Trade Quantity  \\\n",
       "2030  2010-07-27  117.6  119.50  112.00  118.80  118.65                586100   \n",
       "2031  2010-07-26  120.1  121.00  117.10  117.10  117.60                658440   \n",
       "2032  2010-07-23  121.8  121.95  120.25  120.35  120.65                281312   \n",
       "2033  2010-07-22  120.3  122.00  120.25  120.75  120.90                293312   \n",
       "2034  2010-07-21  122.1  123.00  121.05  121.10  121.55                658666   \n",
       "\n",
       "      Turnover (Lacs)  \n",
       "2030           694.98  \n",
       "2031           780.01  \n",
       "2032           340.31  \n",
       "2033           355.17  \n",
       "2034           803.56  "
      ]
     },
     "execution_count": 5,
     "metadata": {},
     "output_type": "execute_result"
    }
   ],
   "source": [
    "dataset_train.tail()"
   ]
  },
  {
   "cell_type": "code",
   "execution_count": 6,
   "metadata": {},
   "outputs": [],
   "source": [
    "from sklearn.preprocessing import MinMaxScaler\n",
    "sc = MinMaxScaler(feature_range = (0,1)) # sc dipanggil sebagai objek/class\n",
    "training_set_scaled = sc.fit_transform(training_set) # dipanggil fungsi fit_transform dr class sc menggunakan atribut feature_range"
   ]
  },
  {
   "cell_type": "code",
   "execution_count": 11,
   "metadata": {},
   "outputs": [
    {
     "data": {
      "text/plain": [
       "array([[0.6202352 ],\n",
       "       [0.62226277],\n",
       "       [0.64436334],\n",
       "       ...,\n",
       "       [0.16504461],\n",
       "       [0.15896188],\n",
       "       [0.16626115]])"
      ]
     },
     "execution_count": 11,
     "metadata": {},
     "output_type": "execute_result"
    }
   ],
   "source": [
    "training_set_scaled"
   ]
  },
  {
   "cell_type": "code",
   "execution_count": 51,
   "metadata": {},
   "outputs": [],
   "source": [
    "training_set_reversed = np.flip(training_set_scaled)"
   ]
  },
  {
   "cell_type": "code",
   "execution_count": 52,
   "metadata": {},
   "outputs": [],
   "source": [
    "#Creating Data with Timesteps\n",
    "X_train = []\n",
    "y_train = []\n",
    "for i in range(60, 2035):\n",
    "    X_train.append(training_set_reversed[i-60:i, 0])\n",
    "    y_train.append(training_set_reversed[i, 0])\n",
    "X_train, y_train = np.array(X_train), np.array(y_train)\n",
    "\n",
    "X_train = np.reshape(X_train, (X_train.shape[0], X_train.shape[1], 1))"
   ]
  },
  {
   "cell_type": "code",
   "execution_count": 24,
   "metadata": {},
   "outputs": [
    {
     "data": {
      "text/plain": [
       "array([[[0.6202352 ],\n",
       "        [0.62226277],\n",
       "        [0.64436334],\n",
       "        ...,\n",
       "        [0.79622871],\n",
       "        [0.81062449],\n",
       "        [0.74371452]],\n",
       "\n",
       "       [[0.62226277],\n",
       "        [0.64436334],\n",
       "        [0.61719384],\n",
       "        ...,\n",
       "        [0.81062449],\n",
       "        [0.74371452],\n",
       "        [0.77007299]],\n",
       "\n",
       "       [[0.64436334],\n",
       "        [0.61719384],\n",
       "        [0.61820762],\n",
       "        ...,\n",
       "        [0.74371452],\n",
       "        [0.77007299],\n",
       "        [0.73641525]],\n",
       "\n",
       "       ...,\n",
       "\n",
       "       [[0.19870235],\n",
       "        [0.21796431],\n",
       "        [0.21553122],\n",
       "        ...,\n",
       "        [0.14963504],\n",
       "        [0.14801298],\n",
       "        [0.15815085]],\n",
       "\n",
       "       [[0.21796431],\n",
       "        [0.21553122],\n",
       "        [0.20600162],\n",
       "        ...,\n",
       "        [0.14801298],\n",
       "        [0.15815085],\n",
       "        [0.16504461]],\n",
       "\n",
       "       [[0.21553122],\n",
       "        [0.20600162],\n",
       "        [0.21654501],\n",
       "        ...,\n",
       "        [0.15815085],\n",
       "        [0.16504461],\n",
       "        [0.15896188]]])"
      ]
     },
     "execution_count": 24,
     "metadata": {},
     "output_type": "execute_result"
    }
   ],
   "source": [
    "X_train"
   ]
  },
  {
   "cell_type": "code",
   "execution_count": 26,
   "metadata": {},
   "outputs": [
    {
     "data": {
      "text/plain": [
       "60"
      ]
     },
     "execution_count": 26,
     "metadata": {},
     "output_type": "execute_result"
    }
   ],
   "source": [
    "len(X_train[0, :, :])"
   ]
  },
  {
   "cell_type": "code",
   "execution_count": 22,
   "metadata": {},
   "outputs": [
    {
     "data": {
      "text/plain": [
       "array([0.6202352 , 0.62226277, 0.64436334, 0.61719384, 0.61820762,\n",
       "       0.62408759, 0.62793998, 0.63584753, 0.61658556, 0.57725061,\n",
       "       0.54845904, 0.57339822, 0.57339822, 0.56731549, 0.57948094,\n",
       "       0.57137064, 0.63706407, 0.62814274, 0.63219789, 0.62550689,\n",
       "       0.61942417, 0.63219789, 0.61111111, 0.62206002, 0.64557989,\n",
       "       0.67234388, 0.66058394, 0.64760746, 0.6283455 , 0.62408759,\n",
       "       0.61597729, 0.63341444, 0.63077859, 0.63321168, 0.64841849,\n",
       "       0.62469586, 0.62814274, 0.61394972, 0.67964315, 0.65815085,\n",
       "       0.6593674 , 0.64841849, 0.62773723, 0.67883212, 0.66058394,\n",
       "       0.63990268, 0.60888078, 0.6431468 , 0.6784266 , 0.65064882,\n",
       "       0.71695053, 0.74574209, 0.7676399 , 0.78548256, 0.78994323,\n",
       "       0.75892133, 0.76520681, 0.79622871, 0.81062449, 0.74371452])"
      ]
     },
     "execution_count": 22,
     "metadata": {},
     "output_type": "execute_result"
    }
   ],
   "source": [
    "X_train[0, :]"
   ]
  },
  {
   "cell_type": "code",
   "execution_count": 19,
   "metadata": {},
   "outputs": [
    {
     "data": {
      "text/plain": [
       "array([[0.6202352 , 0.62226277, 0.64436334, ..., 0.79622871, 0.81062449,\n",
       "        0.74371452],\n",
       "       [0.62226277, 0.64436334, 0.61719384, ..., 0.81062449, 0.74371452,\n",
       "        0.77007299],\n",
       "       [0.64436334, 0.61719384, 0.61820762, ..., 0.74371452, 0.77007299,\n",
       "        0.73641525],\n",
       "       ...,\n",
       "       [0.19870235, 0.21796431, 0.21553122, ..., 0.14963504, 0.14801298,\n",
       "        0.15815085],\n",
       "       [0.21796431, 0.21553122, 0.20600162, ..., 0.14801298, 0.15815085,\n",
       "        0.16504461],\n",
       "       [0.21553122, 0.20600162, 0.21654501, ..., 0.15815085, 0.16504461,\n",
       "        0.15896188]])"
      ]
     },
     "execution_count": 19,
     "metadata": {},
     "output_type": "execute_result"
    }
   ],
   "source": [
    "X_train"
   ]
  },
  {
   "cell_type": "code",
   "execution_count": 28,
   "metadata": {},
   "outputs": [
    {
     "name": "stderr",
     "output_type": "stream",
     "text": [
      "Using TensorFlow backend.\n"
     ]
    }
   ],
   "source": [
    "from keras.models import Sequential\n",
    "from keras.layers import Dense\n",
    "from keras.layers import LSTM\n",
    "from keras.layers import Dropout"
   ]
  },
  {
   "cell_type": "code",
   "execution_count": 29,
   "metadata": {},
   "outputs": [
    {
     "name": "stdout",
     "output_type": "stream",
     "text": [
      "WARNING:tensorflow:From C:\\Users\\user\\Anaconda3\\lib\\site-packages\\tensorflow\\python\\ops\\resource_variable_ops.py:435: colocate_with (from tensorflow.python.framework.ops) is deprecated and will be removed in a future version.\n",
      "Instructions for updating:\n",
      "Colocations handled automatically by placer.\n",
      "WARNING:tensorflow:From C:\\Users\\user\\Anaconda3\\lib\\site-packages\\tensorflow\\python\\ops\\math_ops.py:3066: to_int32 (from tensorflow.python.ops.math_ops) is deprecated and will be removed in a future version.\n",
      "Instructions for updating:\n",
      "Use tf.cast instead.\n",
      "Epoch 1/100\n",
      "1975/1975 [==============================] - 37s 19ms/step - loss: 0.0058\n",
      "Epoch 2/100\n",
      "1975/1975 [==============================] - 32s 16ms/step - loss: 0.0029\n",
      "Epoch 3/100\n",
      "1975/1975 [==============================] - 32s 16ms/step - loss: 0.0026\n",
      "Epoch 4/100\n",
      "1975/1975 [==============================] - 32s 16ms/step - loss: 0.0022\n",
      "Epoch 5/100\n",
      "1975/1975 [==============================] - 32s 16ms/step - loss: 0.0019\n",
      "Epoch 6/100\n",
      "1975/1975 [==============================] - 32s 16ms/step - loss: 0.0018\n",
      "Epoch 7/100\n",
      "1975/1975 [==============================] - 32s 16ms/step - loss: 0.0017\n",
      "Epoch 8/100\n",
      "1975/1975 [==============================] - 32s 16ms/step - loss: 0.0017\n",
      "Epoch 9/100\n",
      "1975/1975 [==============================] - 32s 16ms/step - loss: 0.0016\n",
      "Epoch 10/100\n",
      "1975/1975 [==============================] - 32s 16ms/step - loss: 0.0014\n",
      "Epoch 11/100\n",
      "1975/1975 [==============================] - 32s 16ms/step - loss: 0.0015\n",
      "Epoch 12/100\n",
      "1975/1975 [==============================] - 33s 17ms/step - loss: 0.0013\n",
      "Epoch 13/100\n",
      "1975/1975 [==============================] - 32s 16ms/step - loss: 0.0013\n",
      "Epoch 14/100\n",
      "1975/1975 [==============================] - 33s 17ms/step - loss: 0.0011\n",
      "Epoch 15/100\n",
      "1975/1975 [==============================] - 33s 17ms/step - loss: 0.0010\n",
      "Epoch 16/100\n",
      "1975/1975 [==============================] - 33s 16ms/step - loss: 0.0012\n",
      "Epoch 17/100\n",
      "1975/1975 [==============================] - 34s 17ms/step - loss: 0.0010\n",
      "Epoch 18/100\n",
      "1975/1975 [==============================] - 34s 17ms/step - loss: 0.0011\n",
      "Epoch 19/100\n",
      "1975/1975 [==============================] - 32s 16ms/step - loss: 0.0010\n",
      "Epoch 20/100\n",
      "1975/1975 [==============================] - 33s 17ms/step - loss: 0.0010\n",
      "Epoch 21/100\n",
      "1975/1975 [==============================] - 33s 17ms/step - loss: 0.0011\n",
      "Epoch 22/100\n",
      "1975/1975 [==============================] - 33s 17ms/step - loss: 8.5355e-04\n",
      "Epoch 23/100\n",
      "1975/1975 [==============================] - 34s 17ms/step - loss: 9.8601e-04\n",
      "Epoch 24/100\n",
      "1975/1975 [==============================] - 33s 17ms/step - loss: 9.6963e-04\n",
      "Epoch 25/100\n",
      "1975/1975 [==============================] - 33s 17ms/step - loss: 0.0010\n",
      "Epoch 26/100\n",
      "1975/1975 [==============================] - 33s 17ms/step - loss: 8.3880e-04\n",
      "Epoch 27/100\n",
      "1975/1975 [==============================] - 33s 17ms/step - loss: 9.0366e-04\n",
      "Epoch 28/100\n",
      "1975/1975 [==============================] - 33s 17ms/step - loss: 8.4026e-04\n",
      "Epoch 29/100\n",
      "1975/1975 [==============================] - 33s 17ms/step - loss: 8.7571e-04\n",
      "Epoch 30/100\n",
      "1975/1975 [==============================] - 33s 17ms/step - loss: 9.4045e-04\n",
      "Epoch 31/100\n",
      "1975/1975 [==============================] - 33s 17ms/step - loss: 8.8181e-04\n",
      "Epoch 32/100\n",
      "1975/1975 [==============================] - 32s 16ms/step - loss: 8.4647e-04\n",
      "Epoch 33/100\n",
      "1975/1975 [==============================] - 32s 16ms/step - loss: 9.5668e-04\n",
      "Epoch 34/100\n",
      "1975/1975 [==============================] - 33s 16ms/step - loss: 8.6073e-04\n",
      "Epoch 35/100\n",
      "1975/1975 [==============================] - 32s 16ms/step - loss: 8.6584e-04\n",
      "Epoch 36/100\n",
      "1975/1975 [==============================] - 32s 16ms/step - loss: 8.3345e-04\n",
      "Epoch 37/100\n",
      "1975/1975 [==============================] - 33s 16ms/step - loss: 7.8098e-04\n",
      "Epoch 38/100\n",
      "1975/1975 [==============================] - 33s 17ms/step - loss: 7.7441e-04\n",
      "Epoch 39/100\n",
      "1975/1975 [==============================] - 33s 17ms/step - loss: 7.7706e-04\n",
      "Epoch 40/100\n",
      "1975/1975 [==============================] - 33s 17ms/step - loss: 8.6115e-04\n",
      "Epoch 41/100\n",
      "1975/1975 [==============================] - 33s 17ms/step - loss: 7.2802e-04\n",
      "Epoch 42/100\n",
      "1975/1975 [==============================] - 33s 17ms/step - loss: 8.7184e-04\n",
      "Epoch 43/100\n",
      "1975/1975 [==============================] - 33s 17ms/step - loss: 7.8470e-04\n",
      "Epoch 44/100\n",
      "1975/1975 [==============================] - 33s 17ms/step - loss: 9.2905e-04\n",
      "Epoch 45/100\n",
      "1975/1975 [==============================] - 33s 17ms/step - loss: 7.4289e-04\n",
      "Epoch 46/100\n",
      "1975/1975 [==============================] - 33s 17ms/step - loss: 8.4126e-04\n",
      "Epoch 47/100\n",
      "1975/1975 [==============================] - 33s 17ms/step - loss: 7.3514e-04\n",
      "Epoch 48/100\n",
      "1975/1975 [==============================] - 33s 17ms/step - loss: 7.8302e-04\n",
      "Epoch 49/100\n",
      "1975/1975 [==============================] - 33s 17ms/step - loss: 7.7627e-04\n",
      "Epoch 50/100\n",
      "1975/1975 [==============================] - 32s 16ms/step - loss: 8.0481e-04\n",
      "Epoch 51/100\n",
      "1975/1975 [==============================] - 32s 16ms/step - loss: 6.5934e-04\n",
      "Epoch 52/100\n",
      "1975/1975 [==============================] - 32s 16ms/step - loss: 7.3016e-04\n",
      "Epoch 53/100\n",
      "1975/1975 [==============================] - 32s 16ms/step - loss: 7.6213e-04\n",
      "Epoch 54/100\n",
      "1975/1975 [==============================] - 32s 16ms/step - loss: 7.3480e-04\n",
      "Epoch 55/100\n",
      "1975/1975 [==============================] - 33s 16ms/step - loss: 6.6632e-04\n",
      "Epoch 56/100\n",
      "1975/1975 [==============================] - 33s 17ms/step - loss: 6.7654e-04\n",
      "Epoch 57/100\n",
      "1975/1975 [==============================] - 33s 17ms/step - loss: 6.9519e-04\n",
      "Epoch 58/100\n",
      "1975/1975 [==============================] - 33s 17ms/step - loss: 7.5276e-04\n",
      "Epoch 59/100\n",
      "1975/1975 [==============================] - 33s 16ms/step - loss: 7.2842e-04\n",
      "Epoch 60/100\n",
      "1975/1975 [==============================] - 32s 16ms/step - loss: 7.6280e-04\n",
      "Epoch 61/100\n",
      "1975/1975 [==============================] - 33s 16ms/step - loss: 7.4482e-04\n",
      "Epoch 62/100\n",
      "1975/1975 [==============================] - 33s 16ms/step - loss: 8.2441e-04\n",
      "Epoch 63/100\n",
      "1975/1975 [==============================] - 34s 17ms/step - loss: 7.3355e-04\n",
      "Epoch 64/100\n",
      "1975/1975 [==============================] - 33s 17ms/step - loss: 7.4243e-04\n",
      "Epoch 65/100\n",
      "1975/1975 [==============================] - 34s 17ms/step - loss: 6.8364e-04\n",
      "Epoch 66/100\n",
      "1975/1975 [==============================] - 32s 16ms/step - loss: 6.7589e-04\n",
      "Epoch 67/100\n",
      "1975/1975 [==============================] - 33s 17ms/step - loss: 6.6128e-04\n",
      "Epoch 68/100\n",
      "1975/1975 [==============================] - 32s 16ms/step - loss: 6.6317e-04\n",
      "Epoch 69/100\n",
      "1975/1975 [==============================] - 34s 17ms/step - loss: 6.9183e-04\n",
      "Epoch 70/100\n",
      "1975/1975 [==============================] - 33s 16ms/step - loss: 6.2980e-04\n",
      "Epoch 71/100\n",
      "1975/1975 [==============================] - 33s 17ms/step - loss: 7.1768e-04\n",
      "Epoch 72/100\n",
      "1975/1975 [==============================] - 32s 16ms/step - loss: 7.1906e-04\n",
      "Epoch 73/100\n",
      "1975/1975 [==============================] - 34s 17ms/step - loss: 6.4360e-04\n",
      "Epoch 74/100\n",
      "1975/1975 [==============================] - 33s 17ms/step - loss: 7.0041e-04\n",
      "Epoch 75/100\n",
      "1975/1975 [==============================] - 33s 17ms/step - loss: 7.0313e-04\n",
      "Epoch 76/100\n",
      "1975/1975 [==============================] - 34s 17ms/step - loss: 7.1104e-04\n",
      "Epoch 77/100\n",
      "1975/1975 [==============================] - 34s 17ms/step - loss: 5.7277e-04\n",
      "Epoch 78/100\n",
      "1975/1975 [==============================] - 33s 17ms/step - loss: 7.5285e-04\n",
      "Epoch 79/100\n",
      "1975/1975 [==============================] - 33s 17ms/step - loss: 6.5532e-04\n",
      "Epoch 80/100\n",
      "1975/1975 [==============================] - 34s 17ms/step - loss: 8.3413e-04\n",
      "Epoch 81/100\n",
      "1975/1975 [==============================] - 33s 16ms/step - loss: 7.0960e-04\n",
      "Epoch 82/100\n",
      "1975/1975 [==============================] - 33s 17ms/step - loss: 6.4549e-04\n",
      "Epoch 83/100\n",
      "1975/1975 [==============================] - 33s 17ms/step - loss: 6.8613e-04\n",
      "Epoch 84/100\n",
      "1975/1975 [==============================] - 33s 17ms/step - loss: 5.7694e-04\n",
      "Epoch 85/100\n",
      "1975/1975 [==============================] - 33s 17ms/step - loss: 6.7011e-04\n",
      "Epoch 86/100\n",
      "1975/1975 [==============================] - 32s 16ms/step - loss: 7.2138e-04\n",
      "Epoch 87/100\n",
      "1975/1975 [==============================] - 32s 16ms/step - loss: 6.5481e-04\n",
      "Epoch 88/100\n",
      "1975/1975 [==============================] - 31s 16ms/step - loss: 6.9406e-04\n",
      "Epoch 89/100\n",
      "1975/1975 [==============================] - 32s 16ms/step - loss: 6.2445e-04\n",
      "Epoch 90/100\n",
      "1975/1975 [==============================] - 32s 16ms/step - loss: 6.2699e-04\n",
      "Epoch 91/100\n",
      "1975/1975 [==============================] - 32s 16ms/step - loss: 6.2072e-04\n",
      "Epoch 92/100\n",
      "1975/1975 [==============================] - 32s 16ms/step - loss: 7.1961e-04\n",
      "Epoch 93/100\n",
      "1975/1975 [==============================] - 32s 16ms/step - loss: 6.5290e-04\n",
      "Epoch 94/100\n",
      "1975/1975 [==============================] - 32s 16ms/step - loss: 6.7592e-04\n",
      "Epoch 95/100\n",
      "1975/1975 [==============================] - 32s 16ms/step - loss: 7.3546e-04\n",
      "Epoch 96/100\n",
      "1975/1975 [==============================] - 32s 16ms/step - loss: 7.6307e-04\n",
      "Epoch 97/100\n",
      "1975/1975 [==============================] - 31s 16ms/step - loss: 6.7094e-04\n",
      "Epoch 98/100\n",
      "1975/1975 [==============================] - 32s 16ms/step - loss: 6.8449e-04\n",
      "Epoch 99/100\n",
      "1975/1975 [==============================] - 32s 16ms/step - loss: 7.1238e-04\n",
      "Epoch 100/100\n",
      "1975/1975 [==============================] - 32s 16ms/step - loss: 6.4024e-04\n"
     ]
    },
    {
     "data": {
      "text/plain": [
       "<keras.callbacks.callbacks.History at 0x238f0b81048>"
      ]
     },
     "execution_count": 29,
     "metadata": {},
     "output_type": "execute_result"
    }
   ],
   "source": [
    "regressor = Sequential()\n",
    "regressor.add(LSTM(units = 50, return_sequences = True, input_shape = (X_train.shape[1], 1)))\n",
    "regressor.add(Dropout(0.2))\n",
    "\n",
    "regressor.add(LSTM(units = 50, return_sequences = True))\n",
    "regressor.add(Dropout(0.2))\n",
    "\n",
    "regressor.add(LSTM(units = 50, return_sequences = True))\n",
    "regressor.add(Dropout(0.2))\n",
    "\n",
    "regressor.add(LSTM(units = 50))\n",
    "regressor.add(Dropout(0.2))\n",
    "\n",
    "regressor.add(Dense(units = 1))\n",
    "\n",
    "regressor.compile(optimizer = 'adam', loss = 'mean_squared_error')\n",
    "\n",
    "regressor.fit(X_train, y_train, epochs = 100, batch_size = 8)"
   ]
  },
  {
   "cell_type": "code",
   "execution_count": 11,
   "metadata": {},
   "outputs": [
    {
     "ename": "SyntaxError",
     "evalue": "invalid syntax (<ipython-input-11-9b8b8b5d3dee>, line 3)",
     "output_type": "error",
     "traceback": [
      "\u001b[1;36m  File \u001b[1;32m\"<ipython-input-11-9b8b8b5d3dee>\"\u001b[1;36m, line \u001b[1;32m3\u001b[0m\n\u001b[1;33m    dataset_test.iloc[:, 1:2].(header=None)\u001b[0m\n\u001b[1;37m                              ^\u001b[0m\n\u001b[1;31mSyntaxError\u001b[0m\u001b[1;31m:\u001b[0m invalid syntax\n"
     ]
    }
   ],
   "source": [
    "dataset_test = pd.read_csv(\"tatatest.csv\")\n",
    "dataset_test['Open']\n",
    "dataset_test.iloc[:, 1:2].(header=None)"
   ]
  },
  {
   "cell_type": "code",
   "execution_count": 45,
   "metadata": {},
   "outputs": [],
   "source": [
    "dataset_total = pd.concat((dataset_test['Open'], dataset_train['Open']), axis = 0)\n",
    "dataset_total_reversed = dataset_total.iloc[::-1]\n",
    "inputs = dataset_total_reversed[len(dataset_total_reversed) - len(dataset_test) - 60:].values\n",
    "inputs = inputs.reshape(-1, 1)\n",
    "inputs = sc.transform(inputs)\n",
    "X_test = []\n",
    "for i in range(60, 76):\n",
    "    X_test.append(inputs[i-60:i, 0])\n",
    "X_test = np.array(X_test)\n",
    "X_test = np.reshape(X_test, (X_test.shape[0], X_test.shape[1], 1))\n",
    "predicted_stock_price = regressor.predict(X_test)\n",
    "predicted_stock_price = sc.inverse_transform(predicted_stock_price)"
   ]
  },
  {
   "cell_type": "code",
   "execution_count": 49,
   "metadata": {},
   "outputs": [],
   "source": [
    "real_stock_price = dataset_test['Open']"
   ]
  },
  {
   "cell_type": "code",
   "execution_count": 50,
   "metadata": {},
   "outputs": [
    {
     "data": {
      "image/png": "[encoded data removed]",
      "text/plain": [
       "<Figure size 432x288 with 1 Axes>"
      ]
     },
     "metadata": {
      "needs_background": "light"
     },
     "output_type": "display_data"
    }
   ],
   "source": [
    "plt.plot(real_stock_price, color = 'black', label = 'TATA Stock Price')\n",
    "plt.plot(predicted_stock_price, color = 'green', label = 'Predicted TATA Stock Price')\n",
    "plt.title('TATA Stock Price Prediction')\n",
    "plt.xlabel('Time')\n",
    "plt.ylabel('TATA Stock Price')\n",
    "plt.legend()\n",
    "plt.show()"
   ]
  }
 ],
 "metadata": {
  "kernelspec": {
   "display_name": "Python 3",
   "language": "python",
   "name": "python3"
  },
  "language_info": {
   "codemirror_mode": {
    "name": "ipython",
    "version": 3
   },
   "file_extension": ".py",
   "mimetype": "text/x-python",
   "name": "python",
   "nbconvert_exporter": "python",
   "pygments_lexer": "ipython3",
   "version": "3.7.3"
  }
 },
 "nbformat": 4,
 "nbformat_minor": 2
}
